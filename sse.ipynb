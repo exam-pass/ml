{
 "cells": [
  {
   "cell_type": "code",
   "execution_count": 25,
   "metadata": {},
   "outputs": [],
   "source": [
    "x=[[1,2,3,4,5],[5,6,7,8,9]]\n",
    "y=[1,4,9,4,2]"
   ]
  },
  {
   "cell_type": "code",
   "execution_count": 26,
   "metadata": {},
   "outputs": [
    {
     "name": "stdout",
     "output_type": "stream",
     "text": [
      "[[1.         1.         0.10259784]\n",
      " [1.         1.         0.10259784]\n",
      " [0.10259784 0.10259784 1.        ]]\n"
     ]
    }
   ],
   "source": [
    "import numpy as np\n",
    "x=np.array(x)\n",
    "y=np.array(y)\n",
    "x_transpose = np.transpose(x)\n",
    "data = np.column_stack((x_transpose,y))\n",
    "correlation_matrx=np.corrcoef(data,rowvar=False)\n",
    "print(correlation_matrx)"
   ]
  },
  {
   "cell_type": "code",
   "execution_count": 27,
   "metadata": {},
   "outputs": [
    {
     "name": "stdout",
     "output_type": "stream",
     "text": [
      "[ 8.36136715e-15 -2.03309591e-15  1.00000000e+00]\n"
     ]
    }
   ],
   "source": [
    "x=np.array(x)\n",
    "y=np.array(y)\n",
    "x_inter= np.column_stack((np.ones(len(y)), x[0]))\n",
    "theta=np.linalg.inv(x_inter.T @ x_inter) @ (x_inter.T @ y)\n",
    "y_pred_train = x_inter @ theta\n",
    "print(theta)"
   ]
  },
  {
   "cell_type": "code",
   "execution_count": 28,
   "metadata": {},
   "outputs": [
    {
     "name": "stdout",
     "output_type": "stream",
     "text": [
      "\n",
      "Regression Parameters (theta):\n",
      "[ 8.36136715e-15 -2.03309591e-15  1.00000000e+00]\n",
      "\n",
      "SSE (Sum of Squared Errors): 7.619533527819889e-28\n",
      "SSR (Sum of Squared Regression): 37.999999999999986\n",
      "SST (Total Sum of Squares): 37.999999999999986\n",
      "R-squared (R2): 1.0\n"
     ]
    }
   ],
   "source": [
    "residuals = y - y_pred_train\n",
    "SSE = np.sum(residuals ** 2)\n",
    "SSR = np.sum((y_pred_train - np.mean(y)) ** 2)\n",
    "SST = SSE + SSR\n",
    "R2 = SSR / SST\n",
    "\n",
    "# Step 7: Display results\n",
    "print(\"\\nRegression Parameters (theta):\")\n",
    "print(theta)\n",
    "print(\"\\nSSE (Sum of Squared Errors):\", SSE)\n",
    "print(\"SSR (Sum of Squared Regression):\", SSR)\n",
    "print(\"SST (Total Sum of Squares):\", SST)\n",
    "print(\"R-squared (R2):\", R2)"
   ]
  }
 ],
 "metadata": {
  "kernelspec": {
   "display_name": "Python 3",
   "language": "python",
   "name": "python3"
  },
  "language_info": {
   "codemirror_mode": {
    "name": "ipython",
    "version": 3
   },
   "file_extension": ".py",
   "mimetype": "text/x-python",
   "name": "python",
   "nbconvert_exporter": "python",
   "pygments_lexer": "ipython3",
   "version": "3.10.5"
  }
 },
 "nbformat": 4,
 "nbformat_minor": 2
}
